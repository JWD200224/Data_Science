{
 "cells": [
  {
   "cell_type": "code",
   "execution_count": 1,
   "metadata": {},
   "outputs": [
    {
     "name": "stdout",
     "output_type": "stream",
     "text": [
      "2    3\n"
     ]
    }
   ],
   "source": [
    "def countingvnc(string):\n",
    "    vowels = \"aeiouAEIOU\"\n",
    "    vowel_count = 0\n",
    "    consonatant_count = 0\n",
    "    for char in string:\n",
    "        if char.isalpha():\n",
    "            if char in vowels:\n",
    "                vowel_count+=1\n",
    "            else:\n",
    "                consonatant_count +=1\n",
    "    return vowel_count, consonatant_count\n",
    "\n",
    "x = input(str(\"ENter string\"))\n",
    "vowels, con = countingvnc(x)\n",
    "print( vowels, \"  \" , con)"
   ]
  },
  {
   "cell_type": "code",
   "execution_count": 2,
   "metadata": {},
   "outputs": [
    {
     "name": "stdout",
     "output_type": "stream",
     "text": [
      "(1, 8)\n"
     ]
    }
   ],
   "source": [
    "def min_max(tuple):\n",
    "    if not tuple:   \n",
    "        return None,None\n",
    "    return min(tuple),max(tuple)\n",
    "\n",
    "tup = (1,2,3,4,5,6,7,8)\n",
    "print(min_max(tup))"
   ]
  },
  {
   "cell_type": "code",
   "execution_count": 3,
   "metadata": {},
   "outputs": [
    {
     "name": "stdout",
     "output_type": "stream",
     "text": [
      "(1, 2, [3, 4, 5, 6, 7, 8, 9])\n"
     ]
    }
   ],
   "source": [
    "def unpack(tuple):\n",
    "    first,sec, *rest = tuple\n",
    "    return first,sec,rest\n",
    "\n",
    "tup = (1,2,3,4,5,6,7,8,9)\n",
    "print(unpack(tup))"
   ]
  },
  {
   "cell_type": "code",
   "execution_count": 5,
   "metadata": {},
   "outputs": [
    {
     "name": "stdout",
     "output_type": "stream",
     "text": [
      "{'this': 2, 'is': 1, 'a': 1, 'test': 1, 'sentence': 1, 'ignore': 1, 'message': 1}\n"
     ]
    }
   ],
   "source": [
    "def frequency(string):\n",
    "    freq = {}\n",
    "    words = string.split()\n",
    "    for word in words:\n",
    "        word = word.strip(\".,!?\").lower()\n",
    "        if word:\n",
    "            freq[word] = freq.get(word,0) +1\n",
    "    return freq\n",
    "\n",
    "text = \"This is a test sentence ignore this message\"\n",
    "print(frequency(text))"
   ]
  },
  {
   "cell_type": "code",
   "execution_count": 8,
   "metadata": {},
   "outputs": [
    {
     "name": "stdout",
     "output_type": "stream",
     "text": [
      "[1, 2, 7]\n"
     ]
    }
   ],
   "source": [
    "def find_dupes(lst):\n",
    "    seen = set()\n",
    "    dups = set()\n",
    "    for item in lst:\n",
    "        if item in seen:\n",
    "            dups.add(item)\n",
    "        else:\n",
    "            seen.add(item)\n",
    "    return list(dups)\n",
    "\n",
    "num = [1,1,1,2,2,2,3,4,5,6,7,7]\n",
    "print(find_dupes(num))"
   ]
  },
  {
   "cell_type": "code",
   "execution_count": 9,
   "metadata": {},
   "outputs": [
    {
     "name": "stdout",
     "output_type": "stream",
     "text": [
      "[2, 34, 4, 6, 8, 10]\n"
     ]
    }
   ],
   "source": [
    "num = [1,2,34,4,5,6,7,8,9,10]\n",
    "even_num = list(filter(lambda x:x%2==0,num))\n",
    "print(even_num)"
   ]
  },
  {
   "cell_type": "code",
   "execution_count": 8,
   "metadata": {},
   "outputs": [
    {
     "name": "stdout",
     "output_type": "stream",
     "text": [
      "30\n",
      "10\n",
      "200\n"
     ]
    }
   ],
   "source": [
    "import mymath\n",
    "x,y = map(int,input(\"enter 2 numbers: \").split())\n",
    "print(mymath.add(x,y))\n",
    "print(mymath.subtract(x,y))\n",
    "print(mymath.multiply(x,y))\n"
   ]
  },
  {
   "cell_type": "code",
   "execution_count": 9,
   "metadata": {},
   "outputs": [
    {
     "name": "stdout",
     "output_type": "stream",
     "text": [
      "[(2, 1), (3, 2), (1, 5), (4, 8)]\n"
     ]
    }
   ],
   "source": [
    "tup_list = [(1,5),(3,2),(4,8),(2,1)]\n",
    "sorting = sorted(tup_list, key = lambda x:x[1])\n",
    "print(sorting)"
   ]
  },
  {
   "cell_type": "code",
   "execution_count": 10,
   "metadata": {},
   "outputs": [
    {
     "name": "stdout",
     "output_type": "stream",
     "text": [
      "{1, 2, 5, 6}\n"
     ]
    }
   ],
   "source": [
    "def symmertic_diff(set1,set2):\n",
    "    return set1^set2\n",
    "\n",
    "A = {1, 2, 3, 4}\n",
    "B = {3, 4, 5, 6}\n",
    "\n",
    "print(symmertic_diff(A, B))"
   ]
  },
  {
   "cell_type": "code",
   "execution_count": 11,
   "metadata": {},
   "outputs": [
    {
     "name": "stdout",
     "output_type": "stream",
     "text": [
      "[2, 3, 5, 7, 11, 13, 17, 19]\n"
     ]
    }
   ],
   "source": [
    "def sieve_of_eratosthenes(n):\n",
    "    if n < 2:\n",
    "        return []    \n",
    "    primes = [True] * (n + 1)  \n",
    "    primes[0] = primes[1] = False      \n",
    "    for i in range(2, int(n ** 0.5) + 1):  \n",
    "        if primes[i]:\n",
    "            for j in range(i * i, n + 1, i):\n",
    "                primes[j] = False    \n",
    "    return [i for i in range(n + 1) if primes[i]]\n",
    "\n",
    "print(sieve_of_eratosthenes(20))\n"
   ]
  }
 ],
 "metadata": {
  "kernelspec": {
   "display_name": "Python 3",
   "language": "python",
   "name": "python3"
  },
  "language_info": {
   "codemirror_mode": {
    "name": "ipython",
    "version": 3
   },
   "file_extension": ".py",
   "mimetype": "text/x-python",
   "name": "python",
   "nbconvert_exporter": "python",
   "pygments_lexer": "ipython3",
   "version": "3.11.9"
  }
 },
 "nbformat": 4,
 "nbformat_minor": 2
}
