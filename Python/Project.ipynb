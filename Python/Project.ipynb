{
 "cells": [
  {
   "cell_type": "markdown",
   "metadata": {},
   "source": [
    "# Python project  - EV dataset analysis\n",
    "\n",
    "### Drive Link here for video explaination here:\n",
    " - https://drive.google.com/file/d/1-5XHiefVrCIOxNmdHDwI6yUZhloH70QA/view?usp=sharing\n",
    "\n",
    "## Task 1\n",
    "\n",
    "### A customer has a budget of 350,000 PLN and wants an EV with a minimum range of 400Km    \n",
    "### a. Your task is to filter out EVs that meet these criteria"
   ]
  },
  {
   "cell_type": "code",
   "execution_count": null,
   "metadata": {},
   "outputs": [
    {
     "data": {
      "text/html": [
       "<div>\n",
       "<style scoped>\n",
       "    .dataframe tbody tr th:only-of-type {\n",
       "        vertical-align: middle;\n",
       "    }\n",
       "\n",
       "    .dataframe tbody tr th {\n",
       "        vertical-align: top;\n",
       "    }\n",
       "\n",
       "    .dataframe thead th {\n",
       "        text-align: right;\n",
       "    }\n",
       "</style>\n",
       "<table border=\"1\" class=\"dataframe\">\n",
       "  <thead>\n",
       "    <tr style=\"text-align: right;\">\n",
       "      <th></th>\n",
       "      <th>Car full name</th>\n",
       "      <th>Make</th>\n",
       "      <th>Minimal price (gross) [PLN]</th>\n",
       "      <th>Range (WLTP) [km]</th>\n",
       "    </tr>\n",
       "  </thead>\n",
       "  <tbody>\n",
       "    <tr>\n",
       "      <th>0</th>\n",
       "      <td>Audi e-tron 55 quattro</td>\n",
       "      <td>Audi</td>\n",
       "      <td>345700</td>\n",
       "      <td>438</td>\n",
       "    </tr>\n",
       "    <tr>\n",
       "      <th>8</th>\n",
       "      <td>BMW iX3</td>\n",
       "      <td>BMW</td>\n",
       "      <td>282900</td>\n",
       "      <td>460</td>\n",
       "    </tr>\n",
       "    <tr>\n",
       "      <th>15</th>\n",
       "      <td>Hyundai Kona electric 64kWh</td>\n",
       "      <td>Hyundai</td>\n",
       "      <td>178400</td>\n",
       "      <td>449</td>\n",
       "    </tr>\n",
       "    <tr>\n",
       "      <th>18</th>\n",
       "      <td>Kia e-Niro 64kWh</td>\n",
       "      <td>Kia</td>\n",
       "      <td>167990</td>\n",
       "      <td>455</td>\n",
       "    </tr>\n",
       "    <tr>\n",
       "      <th>20</th>\n",
       "      <td>Kia e-Soul 64kWh</td>\n",
       "      <td>Kia</td>\n",
       "      <td>160990</td>\n",
       "      <td>452</td>\n",
       "    </tr>\n",
       "    <tr>\n",
       "      <th>22</th>\n",
       "      <td>Mercedes-Benz EQC</td>\n",
       "      <td>Mercedes-Benz</td>\n",
       "      <td>334700</td>\n",
       "      <td>414</td>\n",
       "    </tr>\n",
       "    <tr>\n",
       "      <th>39</th>\n",
       "      <td>Tesla Model 3 Standard Range Plus</td>\n",
       "      <td>Tesla</td>\n",
       "      <td>195490</td>\n",
       "      <td>430</td>\n",
       "    </tr>\n",
       "    <tr>\n",
       "      <th>40</th>\n",
       "      <td>Tesla Model 3 Long Range</td>\n",
       "      <td>Tesla</td>\n",
       "      <td>235490</td>\n",
       "      <td>580</td>\n",
       "    </tr>\n",
       "    <tr>\n",
       "      <th>41</th>\n",
       "      <td>Tesla Model 3 Performance</td>\n",
       "      <td>Tesla</td>\n",
       "      <td>260490</td>\n",
       "      <td>567</td>\n",
       "    </tr>\n",
       "    <tr>\n",
       "      <th>47</th>\n",
       "      <td>Volkswagen ID.3 Pro Performance</td>\n",
       "      <td>Volkswagen</td>\n",
       "      <td>155890</td>\n",
       "      <td>425</td>\n",
       "    </tr>\n",
       "    <tr>\n",
       "      <th>48</th>\n",
       "      <td>Volkswagen ID.3 Pro S</td>\n",
       "      <td>Volkswagen</td>\n",
       "      <td>179990</td>\n",
       "      <td>549</td>\n",
       "    </tr>\n",
       "    <tr>\n",
       "      <th>49</th>\n",
       "      <td>Volkswagen ID.4 1st</td>\n",
       "      <td>Volkswagen</td>\n",
       "      <td>202390</td>\n",
       "      <td>500</td>\n",
       "    </tr>\n",
       "  </tbody>\n",
       "</table>\n",
       "</div>"
      ],
      "text/plain": [
       "                        Car full name           Make  \\\n",
       "0              Audi e-tron 55 quattro           Audi   \n",
       "8                             BMW iX3            BMW   \n",
       "15        Hyundai Kona electric 64kWh        Hyundai   \n",
       "18                   Kia e-Niro 64kWh            Kia   \n",
       "20                   Kia e-Soul 64kWh            Kia   \n",
       "22                  Mercedes-Benz EQC  Mercedes-Benz   \n",
       "39  Tesla Model 3 Standard Range Plus          Tesla   \n",
       "40           Tesla Model 3 Long Range          Tesla   \n",
       "41          Tesla Model 3 Performance          Tesla   \n",
       "47    Volkswagen ID.3 Pro Performance     Volkswagen   \n",
       "48              Volkswagen ID.3 Pro S     Volkswagen   \n",
       "49                Volkswagen ID.4 1st     Volkswagen   \n",
       "\n",
       "    Minimal price (gross) [PLN]  Range (WLTP) [km]  \n",
       "0                        345700                438  \n",
       "8                        282900                460  \n",
       "15                       178400                449  \n",
       "18                       167990                455  \n",
       "20                       160990                452  \n",
       "22                       334700                414  \n",
       "39                       195490                430  \n",
       "40                       235490                580  \n",
       "41                       260490                567  \n",
       "47                       155890                425  \n",
       "48                       179990                549  \n",
       "49                       202390                500  "
      ]
     },
     "execution_count": 10,
     "metadata": {},
     "output_type": "execute_result"
    }
   ],
   "source": [
    "import pandas as pd\n",
    "import matplotlib.pyplot as plt\n",
    "\n",
    "\n",
    "file_path = 'E:\\Online_Course\\Python\\Projects\\sampleData.xlsx'\n",
    "\n",
    "df = pd.read_excel(file_path)\n",
    "\n",
    "filtered_df = df[(df['Minimal price (gross) [PLN]'] <= 350000) & (df['Range (WLTP) [km]'] >= 400)]\n",
    "\n",
    "result = filtered_df[['Car full name','Make','Minimal price (gross) [PLN]','Range (WLTP) [km]']]\n",
    "result\n"
   ]
  },
  {
   "cell_type": "markdown",
   "metadata": {},
   "source": [
    "### b. Group them by the manufacturer"
   ]
  },
  {
   "cell_type": "code",
   "execution_count": 8,
   "metadata": {},
   "outputs": [
    {
     "name": "stdout",
     "output_type": "stream",
     "text": [
      "Manufacturer: Audi\n",
      "Manufacturer: BMW\n",
      "Manufacturer: Hyundai\n",
      "Manufacturer: Kia\n",
      "Manufacturer: Mercedes-Benz\n",
      "Manufacturer: Tesla\n",
      "Manufacturer: Volkswagen\n"
     ]
    }
   ],
   "source": [
    "grouped_df = filtered_df.groupby('Make')\n",
    "\n",
    "for name, group in grouped_df:\n",
    "    print(f'Manufacturer: {name}')\n",
    "    group\n"
   ]
  },
  {
   "cell_type": "markdown",
   "metadata": {},
   "source": [
    "### c. Calculate the average battery capacity for each manufacturer"
   ]
  },
  {
   "cell_type": "code",
   "execution_count": 9,
   "metadata": {},
   "outputs": [
    {
     "data": {
      "text/plain": [
       "Make\n",
       "Audi             95.0\n",
       "BMW              80.0\n",
       "Hyundai          64.0\n",
       "Kia              64.0\n",
       "Mercedes-Benz    80.0\n",
       "Tesla            68.0\n",
       "Volkswagen       71.0\n",
       "Name: Battery capacity [kWh], dtype: float64"
      ]
     },
     "execution_count": 9,
     "metadata": {},
     "output_type": "execute_result"
    }
   ],
   "source": [
    "avg_capcity = grouped_df['Battery capacity [kWh]'].mean() \n",
    "average_battery_capacity = round(avg_capcity)\n",
    "average_battery_capacity"
   ]
  },
  {
   "cell_type": "markdown",
   "metadata": {},
   "source": [
    "## Task 2\n",
    "\n",
    "### You suspect some EVs have unusually high or low energy consumption. \n",
    "### Find the outliers in the mean - Energy consumption [kWh/100 km] column"
   ]
  },
  {
   "cell_type": "code",
   "execution_count": 10,
   "metadata": {},
   "outputs": [
    {
     "name": "stdout",
     "output_type": "stream",
     "text": [
      "19 4\n"
     ]
    },
    {
     "data": {
      "text/html": [
       "<div>\n",
       "<style scoped>\n",
       "    .dataframe tbody tr th:only-of-type {\n",
       "        vertical-align: middle;\n",
       "    }\n",
       "\n",
       "    .dataframe tbody tr th {\n",
       "        vertical-align: top;\n",
       "    }\n",
       "\n",
       "    .dataframe thead th {\n",
       "        text-align: right;\n",
       "    }\n",
       "</style>\n",
       "<table border=\"1\" class=\"dataframe\">\n",
       "  <thead>\n",
       "    <tr style=\"text-align: right;\">\n",
       "      <th></th>\n",
       "      <th>Car full name</th>\n",
       "      <th>Make</th>\n",
       "      <th>Model</th>\n",
       "      <th>mean - Energy consumption [kWh/100 km]</th>\n",
       "      <th>Z-score</th>\n",
       "    </tr>\n",
       "  </thead>\n",
       "  <tbody>\n",
       "    <tr>\n",
       "      <th>2</th>\n",
       "      <td>Audi e-tron S quattro</td>\n",
       "      <td>Audi</td>\n",
       "      <td>e-tron S quattro</td>\n",
       "      <td>27.55</td>\n",
       "      <td>2.1375</td>\n",
       "    </tr>\n",
       "    <tr>\n",
       "      <th>5</th>\n",
       "      <td>Audi e-tron Sportback S quattro</td>\n",
       "      <td>Audi</td>\n",
       "      <td>e-tron Sportback S quattro</td>\n",
       "      <td>27.20</td>\n",
       "      <td>2.0500</td>\n",
       "    </tr>\n",
       "    <tr>\n",
       "      <th>6</th>\n",
       "      <td>BMW i3</td>\n",
       "      <td>BMW</td>\n",
       "      <td>i3</td>\n",
       "      <td>13.10</td>\n",
       "      <td>-1.4750</td>\n",
       "    </tr>\n",
       "    <tr>\n",
       "      <th>51</th>\n",
       "      <td>Mercedes-Benz EQV (long)</td>\n",
       "      <td>Mercedes-Benz</td>\n",
       "      <td>EQV (long)</td>\n",
       "      <td>28.20</td>\n",
       "      <td>2.3000</td>\n",
       "    </tr>\n",
       "  </tbody>\n",
       "</table>\n",
       "</div>"
      ],
      "text/plain": [
       "                      Car full name           Make  \\\n",
       "2             Audi e-tron S quattro           Audi   \n",
       "5   Audi e-tron Sportback S quattro           Audi   \n",
       "6                            BMW i3            BMW   \n",
       "51         Mercedes-Benz EQV (long)  Mercedes-Benz   \n",
       "\n",
       "                         Model  mean - Energy consumption [kWh/100 km]  \\\n",
       "2             e-tron S quattro                                   27.55   \n",
       "5   e-tron Sportback S quattro                                   27.20   \n",
       "6                           i3                                   13.10   \n",
       "51                  EQV (long)                                   28.20   \n",
       "\n",
       "    Z-score  \n",
       "2    2.1375  \n",
       "5    2.0500  \n",
       "6   -1.4750  \n",
       "51   2.3000  "
      ]
     },
     "execution_count": 10,
     "metadata": {},
     "output_type": "execute_result"
    }
   ],
   "source": [
    "energy_col = 'mean - Energy consumption [kWh/100 km]'\n",
    "mean_energy = df[energy_col].mean()\n",
    "std_energy = df[energy_col].std()\n",
    "df['Z-score'] = (df[energy_col] - round(mean_energy)) / round(std_energy)\n",
    "outliers = df[(df['Z-score'] > 2) | (df['Z-score'] < -1.3)]\n",
    "print(round(mean_energy),round(std_energy))\n",
    "outliers[['Car full name','Make','Model',energy_col , 'Z-score']]"
   ]
  },
  {
   "cell_type": "markdown",
   "metadata": {},
   "source": [
    "## Task 3\n",
    "### Your manager wants to know if there's a strong relationship between battery capacity and range\n",
    "### a. Create a suitable plot to visualize"
   ]
  },
  {
   "cell_type": "code",
   "execution_count": 11,
   "metadata": {},
   "outputs": [
    {
     "data": {
      "image/png": "[encoded data removed]",
      "text/plain": [
       "<Figure size 1000x600 with 1 Axes>"
      ]
     },
     "metadata": {},
     "output_type": "display_data"
    }
   ],
   "source": [
    "plt.figure(figsize=(10, 6))\n",
    "plt.scatter(df['Battery capacity [kWh]'], df['Range (WLTP) [km]'], alpha=0.7)\n",
    "plt.title('Relationship Between Battery Capacity and Range')\n",
    "plt.xlabel('Battery Capacity [kWh]')\n",
    "plt.ylabel('Range (WLTP) [km]')\n",
    "plt.grid(True)\n",
    "plt.show()"
   ]
  },
  {
   "cell_type": "markdown",
   "metadata": {},
   "source": [
    "## Insights\n",
    "- As battery capacity goes up, so does the range.\n",
    "- There are different ranges for the same battery capacity.\n",
    "- Small increases in battery size (20-60 kWh) lead to big jumps in range.\n",
    "- After 60 kWh, bigger batteries don't add much range.\n",
    "- Some EVs with high capacity (around 100 kWh) have exceptional ranges."
   ]
  },
  {
   "cell_type": "markdown",
   "metadata": {},
   "source": [
    "## Task 4\n",
    "### Build an EV recommendation class. The class should allow users to input their budget, desired range, and battery capacity. \n",
    "### The class should then return the top three EVs matching their criteria. "
   ]
  },
  {
   "cell_type": "code",
   "execution_count": 7,
   "metadata": {},
   "outputs": [
    {
     "data": {
      "text/html": [
       "<div>\n",
       "<style scoped>\n",
       "    .dataframe tbody tr th:only-of-type {\n",
       "        vertical-align: middle;\n",
       "    }\n",
       "\n",
       "    .dataframe tbody tr th {\n",
       "        vertical-align: top;\n",
       "    }\n",
       "\n",
       "    .dataframe thead th {\n",
       "        text-align: right;\n",
       "    }\n",
       "</style>\n",
       "<table border=\"1\" class=\"dataframe\">\n",
       "  <thead>\n",
       "    <tr style=\"text-align: right;\">\n",
       "      <th></th>\n",
       "      <th>Car full name</th>\n",
       "      <th>Make</th>\n",
       "      <th>Model</th>\n",
       "      <th>Minimal price (gross) [PLN]</th>\n",
       "      <th>Range (WLTP) [km]</th>\n",
       "      <th>Battery capacity [kWh]</th>\n",
       "    </tr>\n",
       "  </thead>\n",
       "  <tbody>\n",
       "    <tr>\n",
       "      <th>34</th>\n",
       "      <td>Renault Zoe R110</td>\n",
       "      <td>Renault</td>\n",
       "      <td>Zoe R110</td>\n",
       "      <td>135900</td>\n",
       "      <td>395</td>\n",
       "      <td>52.0</td>\n",
       "    </tr>\n",
       "    <tr>\n",
       "      <th>35</th>\n",
       "      <td>Renault Zoe R135</td>\n",
       "      <td>Renault</td>\n",
       "      <td>Zoe R135</td>\n",
       "      <td>142900</td>\n",
       "      <td>395</td>\n",
       "      <td>52.0</td>\n",
       "    </tr>\n",
       "    <tr>\n",
       "      <th>28</th>\n",
       "      <td>Peugeot e-208</td>\n",
       "      <td>Peugeot</td>\n",
       "      <td>e-208</td>\n",
       "      <td>124900</td>\n",
       "      <td>340</td>\n",
       "      <td>50.0</td>\n",
       "    </tr>\n",
       "  </tbody>\n",
       "</table>\n",
       "</div>"
      ],
      "text/plain": [
       "       Car full name     Make     Model  Minimal price (gross) [PLN]  \\\n",
       "34  Renault Zoe R110  Renault  Zoe R110                       135900   \n",
       "35  Renault Zoe R135  Renault  Zoe R135                       142900   \n",
       "28     Peugeot e-208  Peugeot     e-208                       124900   \n",
       "\n",
       "    Range (WLTP) [km]  Battery capacity [kWh]  \n",
       "34                395                    52.0  \n",
       "35                395                    52.0  \n",
       "28                340                    50.0  "
      ]
     },
     "execution_count": 7,
     "metadata": {},
     "output_type": "execute_result"
    }
   ],
   "source": [
    "class EVRecommendation:\n",
    "    \n",
    "    def recommend(budget, desired_range, battery_capacity):\n",
    "        filtered_data = df[\n",
    "            (df['Minimal price (gross) [PLN]'] <= budget) & \n",
    "            (df['Range (WLTP) [km]'] >= desired_range) & \n",
    "            (df['Battery capacity [kWh]'] >= battery_capacity)\n",
    "        ]\n",
    "        filtered_data = filtered_data.sort_values(by=['Battery capacity [kWh]', 'Minimal price (gross) [PLN]'], ascending=[False, True])\n",
    "        return filtered_data.head(3)\n",
    "\n",
    "\n",
    "budget = float(input(\"Enter your budget (in PLN): \"))\n",
    "desired_range = float(input(\"Enter your desired range (in km): \"))\n",
    "battery_capacity = float(input(\"Enter the minimum battery capacity (in kWh): \"))\n",
    "top_evs = EVRecommendation.recommend(budget, desired_range, battery_capacity)\n",
    "top_evs[['Car full name','Make','Model','Minimal price (gross) [PLN]','Range (WLTP) [km]','Battery capacity [kWh]']]\n"
   ]
  },
  {
   "cell_type": "markdown",
   "metadata": {},
   "source": [
    "## Task 5\n",
    "### Inferential Statistics – Hypothesis Testing: Test whether there is a significant difference in the average Engine power [KM] of vehicles manufactured by two leading manufacturers i.e. Tesla and Audi. \n",
    "### What insights can you draw from the test results?\n",
    "### Recommendations and Conclusion: Provide actionable insights based on your analysis.\n"
   ]
  },
  {
   "cell_type": "code",
   "execution_count": 12,
   "metadata": {},
   "outputs": [
    {
     "name": "stdout",
     "output_type": "stream",
     "text": [
      "T-statistic: 1.7\n",
      "P-value: 0.12\n"
     ]
    }
   ],
   "source": [
    "from scipy.stats import ttest_ind\n",
    "\n",
    "\n",
    "tesla_data = df[df['Make'] == 'Tesla']\n",
    "audi_data = df[df['Make'] == 'Audi']\n",
    "tesla_power = tesla_data['Engine power [KM]']\n",
    "audi_power = audi_data['Engine power [KM]']\n",
    "t_stat, p_value = ttest_ind(tesla_power, audi_power)\n",
    "\n",
    "print(f\"T-statistic: {round(t_stat,2)}\")\n",
    "print(f\"P-value: {round(p_value,2)}\")\n"
   ]
  },
  {
   "cell_type": "markdown",
   "metadata": {},
   "source": [
    "### Conclusion\n",
    "- The t-test results show a T-statistic of 1.7 and a P-value of 0.12. Since the P-value is greater than 0.05, there is no significant difference in the average engine power between Tesla and Audi vehicles.\n",
    "\n",
    "### Recommendations:\n",
    "- More data to be collected for futher analysis preferably from different performance metrics i.e Torque, TopSpeed, etc...\n",
    "- Engine Power would not be recommended as a maketing point for either manufacturer\n"
   ]
  }
 ],
 "metadata": {
  "kernelspec": {
   "display_name": "Python 3",
   "language": "python",
   "name": "python3"
  },
  "language_info": {
   "codemirror_mode": {
    "name": "ipython",
    "version": 3
   },
   "file_extension": ".py",
   "mimetype": "text/x-python",
   "name": "python",
   "nbconvert_exporter": "python",
   "pygments_lexer": "ipython3",
   "version": "3.11.9"
  }
 },
 "nbformat": 4,
 "nbformat_minor": 2
}
