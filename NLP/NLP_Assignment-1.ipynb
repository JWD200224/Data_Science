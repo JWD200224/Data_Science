{
 "cells": [
  {
   "cell_type": "markdown",
   "metadata": {},
   "source": [
    "# Natural Language Processing\n",
    "## Text Classification\n",
    "### Task 1: Data Exploration\n",
    "#### Importing Libaries\n"
   ]
  },
  {
   "cell_type": "code",
   "execution_count": 18,
   "metadata": {},
   "outputs": [],
   "source": [
    "import pandas as pd\n",
    "import re\n",
    "import nltk\n",
    "from nltk.corpus import stopwords\n",
    "from nltk.tokenize import word_tokenize\n",
    "from sklearn.model_selection import train_test_split\n",
    "from sklearn.feature_extraction.text import CountVectorizer\n",
    "from sklearn.linear_model import LogisticRegression\n",
    "from sklearn.metrics import accuracy_score,confusion_matrix, classification_report"
   ]
  },
  {
   "cell_type": "markdown",
   "metadata": {},
   "source": [
    "#### Loading and displaying the first 5 rows of the dataset"
   ]
  },
  {
   "cell_type": "code",
   "execution_count": 4,
   "metadata": {},
   "outputs": [
    {
     "name": "stdout",
     "output_type": "stream",
     "text": [
      "                                                text     label\n",
      "0                 I loved the product, it's amazing!  positive\n",
      "1    Terrible service, I will never shop here again.  negative\n",
      "2    The quality is good, but the delivery was late.   neutral\n",
      "3  Absolutely wonderful experience, highly recomm...  positive\n",
      "4  Product was damaged when it arrived, very disa...  negative\n"
     ]
    }
   ],
   "source": [
    "\n",
    "file_path = r'E:\\Online_Course\\NLP\\Projects\\text_class.csv'  \n",
    "dataset = pd.read_csv(file_path)\n",
    "print(dataset.head())"
   ]
  },
  {
   "cell_type": "markdown",
   "metadata": {},
   "source": [
    "### Printing the total number of rows and the number of unique labels in the dataset"
   ]
  },
  {
   "cell_type": "code",
   "execution_count": 5,
   "metadata": {},
   "outputs": [
    {
     "name": "stdout",
     "output_type": "stream",
     "text": [
      "Total number of rows: 8\n",
      "Number of unique labels: 3\n"
     ]
    }
   ],
   "source": [
    "total_rows = len(dataset)\n",
    "unique_labels = dataset['label'].nunique() \n",
    "print(f\"Total number of rows: {total_rows}\")\n",
    "print(f\"Number of unique labels: {unique_labels}\")"
   ]
  },
  {
   "cell_type": "markdown",
   "metadata": {},
   "source": [
    "#### Checking for missing values and dropping incase of any"
   ]
  },
  {
   "cell_type": "code",
   "execution_count": 6,
   "metadata": {},
   "outputs": [
    {
     "name": "stdout",
     "output_type": "stream",
     "text": [
      "Checking for missing values...\n",
      "text     0\n",
      "label    0\n",
      "dtype: int64\n",
      "After handling missing values:\n",
      "text     0\n",
      "label    0\n",
      "dtype: int64\n"
     ]
    }
   ],
   "source": [
    "print(\"Checking for missing values...\")\n",
    "print(dataset.isnull().sum())\n",
    "\n",
    "dataset = dataset.dropna()\n",
    "print(\"After handling missing values:\")\n",
    "print(dataset.isnull().sum())"
   ]
  },
  {
   "cell_type": "markdown",
   "metadata": {},
   "source": [
    "### Task 2: Preprocessing Text Data\n",
    "#### Converting all text to lower case"
   ]
  },
  {
   "cell_type": "code",
   "execution_count": 7,
   "metadata": {},
   "outputs": [
    {
     "name": "stdout",
     "output_type": "stream",
     "text": [
      "                                                text     label\n",
      "0                 i loved the product, it's amazing!  positive\n",
      "1    terrible service, i will never shop here again.  negative\n",
      "2    the quality is good, but the delivery was late.   neutral\n",
      "3  absolutely wonderful experience, highly recomm...  positive\n",
      "4  product was damaged when it arrived, very disa...  negative\n",
      "5  the customer support was very helpful and polite.  positive\n",
      "6                     worst purchase i've ever made.  negative\n",
      "7  satisfied with the product but the price was t...   neutral\n"
     ]
    }
   ],
   "source": [
    "dataset['text'] = [text.lower() for text in dataset['text']]\n",
    "print(dataset)"
   ]
  },
  {
   "cell_type": "markdown",
   "metadata": {},
   "source": [
    "#### Removing all punctuaion and special charaters"
   ]
  },
  {
   "cell_type": "code",
   "execution_count": 8,
   "metadata": {},
   "outputs": [
    {
     "name": "stdout",
     "output_type": "stream",
     "text": [
      "                                                text     label\n",
      "0                    i loved the product its amazing  positive\n",
      "1      terrible service i will never shop here again  negative\n",
      "2      the quality is good but the delivery was late   neutral\n",
      "3   absolutely wonderful experience highly recommend  positive\n",
      "4  product was damaged when it arrived very disap...  negative\n",
      "5   the customer support was very helpful and polite  positive\n",
      "6                       worst purchase ive ever made  negative\n",
      "7  satisfied with the product but the price was t...   neutral\n"
     ]
    }
   ],
   "source": [
    "cleaned_text = []\n",
    "for text in dataset['text']:\n",
    "    text = re.sub(r'[^\\w\\s]', '', text)\n",
    "    cleaned_text.append(text)\n",
    "dataset['text'] = cleaned_text\n",
    "print(dataset)"
   ]
  },
  {
   "cell_type": "markdown",
   "metadata": {},
   "source": [
    "#### Tokenizing the text, removing stop words and displaying the first 5 rows\n"
   ]
  },
  {
   "cell_type": "code",
   "execution_count": null,
   "metadata": {},
   "outputs": [
    {
     "name": "stdout",
     "output_type": "stream",
     "text": [
      "Processed Text (first 5 rows):\n",
      "                                                text  \\\n",
      "0                    i loved the product its amazing   \n",
      "1      terrible service i will never shop here again   \n",
      "2      the quality is good but the delivery was late   \n",
      "3   absolutely wonderful experience highly recommend   \n",
      "4  product was damaged when it arrived very disap...   \n",
      "\n",
      "                                     processed_text  \n",
      "0                             loved product amazing  \n",
      "1                       terrible service never shop  \n",
      "2                        quality good delivery late  \n",
      "3  absolutely wonderful experience highly recommend  \n",
      "4              product damaged arrived disappointed  \n"
     ]
    }
   ],
   "source": [
    "tokenized_text = []\n",
    "for text in dataset['text']:\n",
    "    tokens = text.split()  \n",
    "    tokenized_text.append(tokens)\n",
    "\n",
    "stop_words = set(stopwords.words('english'))\n",
    "processed_text = []\n",
    "for tokens in tokenized_text:\n",
    "    filtered_tokens = [word for word in tokens if word not in stop_words]\n",
    "    processed_text.append(filtered_tokens)\n",
    "\n",
    "joined_text = [' '.join(tokens) for tokens in processed_text]\n",
    "\n",
    "dataset['processed_text'] = joined_text\n",
    "\n",
    "print(\"Processed Text (first 5 rows):\")\n",
    "print(dataset[['text', 'processed_text']].head())"
   ]
  },
  {
   "cell_type": "markdown",
   "metadata": {},
   "source": [
    "### Task 3: Training a Classifier\n",
    "#### Spliting data into training and testing sets"
   ]
  },
  {
   "cell_type": "code",
   "execution_count": null,
   "metadata": {},
   "outputs": [],
   "source": [
    "X = dataset['processed_text']  \n",
    "y = dataset['label']           \n",
    "X_train, X_test, y_train, y_test = train_test_split(X, y, test_size=0.2, random_state=42)\n",
    "\n",
    "\n",
    "vectorizer = CountVectorizer()\n",
    "X_train_vectorized = vectorizer.fit_transform(X_train)\n",
    "X_test_vectorized = vectorizer.transform(X_test)"
   ]
  },
  {
   "cell_type": "markdown",
   "metadata": {},
   "source": [
    "#### Traning the model, predicting and analysing the accuracy of the model"
   ]
  },
  {
   "cell_type": "code",
   "execution_count": 16,
   "metadata": {},
   "outputs": [
    {
     "name": "stdout",
     "output_type": "stream",
     "text": [
      "Accuracy score: 0.50\n"
     ]
    }
   ],
   "source": [
    "model = LogisticRegression(random_state=42)\n",
    "model.fit(X_train_vectorized, y_train)\n",
    "\n",
    "# Predict labels on the test set\n",
    "y_pred = model.predict(X_test_vectorized)\n",
    "\n",
    "# Calculate accuracy\n",
    "accuracy = accuracy_score(y_test, y_pred)\n",
    "print(f\"Accuracy score: {accuracy:.2f}\")\n"
   ]
  },
  {
   "cell_type": "markdown",
   "metadata": {},
   "source": [
    "- As the score is 0.5 the accuracy is moderate"
   ]
  },
  {
   "cell_type": "markdown",
   "metadata": {},
   "source": [
    "### Task 4: Model Evaluation "
   ]
  },
  {
   "cell_type": "code",
   "execution_count": 19,
   "metadata": {},
   "outputs": [
    {
     "name": "stdout",
     "output_type": "stream",
     "text": [
      "Confusion Matrix:\n",
      "[[0 1]\n",
      " [0 1]]\n",
      "\n",
      "Classification Report:\n",
      "              precision    recall  f1-score   support\n",
      "\n",
      "    negative       0.00      0.00      0.00         1\n",
      "    positive       0.50      1.00      0.67         1\n",
      "\n",
      "    accuracy                           0.50         2\n",
      "   macro avg       0.25      0.50      0.33         2\n",
      "weighted avg       0.25      0.50      0.33         2\n",
      "\n"
     ]
    },
    {
     "name": "stderr",
     "output_type": "stream",
     "text": [
      "c:\\Users\\admin\\anaconda3\\Lib\\site-packages\\sklearn\\metrics\\_classification.py:1531: UndefinedMetricWarning: Precision is ill-defined and being set to 0.0 in labels with no predicted samples. Use `zero_division` parameter to control this behavior.\n",
      "  _warn_prf(average, modifier, f\"{metric.capitalize()} is\", len(result))\n",
      "c:\\Users\\admin\\anaconda3\\Lib\\site-packages\\sklearn\\metrics\\_classification.py:1531: UndefinedMetricWarning: Precision is ill-defined and being set to 0.0 in labels with no predicted samples. Use `zero_division` parameter to control this behavior.\n",
      "  _warn_prf(average, modifier, f\"{metric.capitalize()} is\", len(result))\n",
      "c:\\Users\\admin\\anaconda3\\Lib\\site-packages\\sklearn\\metrics\\_classification.py:1531: UndefinedMetricWarning: Precision is ill-defined and being set to 0.0 in labels with no predicted samples. Use `zero_division` parameter to control this behavior.\n",
      "  _warn_prf(average, modifier, f\"{metric.capitalize()} is\", len(result))\n"
     ]
    }
   ],
   "source": [
    "conf_matrix = confusion_matrix(y_test, y_pred)\n",
    "print(\"Confusion Matrix:\")\n",
    "print(conf_matrix)\n",
    "\n",
    "# Detailed evaluation using a classification report\n",
    "print(\"\\nClassification Report:\")\n",
    "print(classification_report(y_test, y_pred))"
   ]
  },
  {
   "cell_type": "markdown",
   "metadata": {},
   "source": [
    "### Results of evaluation\n",
    "- The model achieved an accuracy score of 50%, which is marginal and suggests unreliable classification.\n",
    "- The confusion matrix reveals that the model correctly predicted the positive class but completely failed for the negative class, demonstrating imbalanced performance and bias.\n",
    "\n",
    "### How the confusion matirx helps:\n",
    "- Errors like false positives and false negatives are clearly broken down in the confusion matrix.\n",
    "- It draws attention to the model's poor performance in accurately predicting the negative class, which informs future developments such as class balance or model refinement."
   ]
  }
 ],
 "metadata": {
  "kernelspec": {
   "display_name": "base",
   "language": "python",
   "name": "python3"
  },
  "language_info": {
   "codemirror_mode": {
    "name": "ipython",
    "version": 3
   },
   "file_extension": ".py",
   "mimetype": "text/x-python",
   "name": "python",
   "nbconvert_exporter": "python",
   "pygments_lexer": "ipython3",
   "version": "3.12.7"
  }
 },
 "nbformat": 4,
 "nbformat_minor": 2
}
