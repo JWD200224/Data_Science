{
 "cells": [
  {
   "cell_type": "markdown",
   "metadata": {},
   "source": [
    "# Assignment 2: Extracting Topics from the Documents\n",
    "\n",
    "### Data Exploration"
   ]
  },
  {
   "cell_type": "code",
   "execution_count": 4,
   "metadata": {},
   "outputs": [],
   "source": [
    "import pandas as pd\n",
    "from sklearn.feature_extraction.text import CountVectorizer\n",
    "from gensim.models.ldamodel import LdaModel\n",
    "from gensim import corpora\n",
    "import nltk\n",
    "from nltk.corpus import stopwords"
   ]
  },
  {
   "cell_type": "markdown",
   "metadata": {},
   "source": [
    "#### Loading the dataset and printing the statistics"
   ]
  },
  {
   "cell_type": "code",
   "execution_count": 2,
   "metadata": {},
   "outputs": [
    {
     "name": "stdout",
     "output_type": "stream",
     "text": [
      "Total rows: 10\n",
      "Unique documents: 10\n"
     ]
    }
   ],
   "source": [
    "file_path = r'E:\\Online_Course\\NLP\\Projects\\text_docs.xlsx'\n",
    "text_docs = pd.read_excel(file_path)\n",
    "total_rows = len(text_docs)\n",
    "\n",
    "unique_documents = text_docs['text'].nunique()\n",
    "\n",
    "print(f\"Total rows: {total_rows}\")\n",
    "print(f\"Unique documents: {unique_documents}\")\n"
   ]
  },
  {
   "cell_type": "markdown",
   "metadata": {},
   "source": [
    "#### Checking and handling missing values while also cleaning the text column and adding insights"
   ]
  },
  {
   "cell_type": "code",
   "execution_count": 3,
   "metadata": {},
   "outputs": [
    {
     "name": "stdout",
     "output_type": "stream",
     "text": [
      "document_id    0\n",
      "text           0\n",
      "dtype: int64\n",
      "   document_id                                               text  word_count\n",
      "0            1  the stock market has been experiencing volatil...          12\n",
      "1            2  the economy is growing, and businesses are opt...          11\n",
      "2            3  climate change is a critical issue that needs ...          11\n",
      "3            4  advances in artificial intelligence have revol...           8\n",
      "4            5  the rise of electric vehicles is shaping the f...          13\n",
      "5            6  healthcare is evolving with the introduction o...          11\n",
      "6            7  the entertainment industry is shifting towards...           9\n",
      "7            8  social media is influencing the way people int...          11\n",
      "8            9  governments around the world are investing in ...          10\n",
      "9           10  cybersecurity is an ongoing concern as digital...          11\n"
     ]
    }
   ],
   "source": [
    "print(text_docs.isnull().sum())  \n",
    "text_docs = text_docs.dropna()  \n",
    "text_docs = text_docs.drop_duplicates(subset='text')  \n",
    "text_docs['text'] = text_docs['text'].str.lower().str.strip()\n",
    "text_docs['word_count'] = text_docs['text'].str.split().apply(len)\n",
    "print(text_docs)"
   ]
  },
  {
   "cell_type": "markdown",
   "metadata": {},
   "source": [
    "#### Preprocessing the text\n",
    "- Tokenize\n",
    "- Removing Stop words\n",
    "- Normalizing"
   ]
  },
  {
   "cell_type": "code",
   "execution_count": 6,
   "metadata": {},
   "outputs": [
    {
     "name": "stdout",
     "output_type": "stream",
     "text": [
      "   document_id                                               text  word_count  \\\n",
      "0            1  the stock market has been experiencing volatil...          12   \n",
      "1            2  the economy is growing, and businesses are opt...          11   \n",
      "2            3  climate change is a critical issue that needs ...          11   \n",
      "3            4  advances in artificial intelligence have revol...           8   \n",
      "4            5  the rise of electric vehicles is shaping the f...          13   \n",
      "5            6  healthcare is evolving with the introduction o...          11   \n",
      "6            7  the entertainment industry is shifting towards...           9   \n",
      "7            8  social media is influencing the way people int...          11   \n",
      "8            9  governments around the world are investing in ...          10   \n",
      "9           10  cybersecurity is an ongoing concern as digital...          11   \n",
      "\n",
      "                                          clean_text  \n",
      "0  [stock, market, experiencing, volatility, due,...  \n",
      "1  [economy, growing,, businesses, optimistic, fu...  \n",
      "2  [climate, change, critical, issue, needs, imme...  \n",
      "3  [advances, artificial, intelligence, revolutio...  \n",
      "4  [rise, electric, vehicles, shaping, future, au...  \n",
      "5  [healthcare, evolving, introduction, new, tech...  \n",
      "6  [entertainment, industry, shifting, towards, d...  \n",
      "7  [social, media, influencing, way, people, inte...  \n",
      "8  [governments, around, world, investing, renewa...  \n",
      "9  [cybersecurity, ongoing, concern, digital, pla...  \n"
     ]
    }
   ],
   "source": [
    "stop_words = set(stopwords.words('english'))\n",
    "\n",
    "text_docs['clean_text'] = text_docs['text'].str.lower().str.split()\n",
    "text_docs['clean_text'] = text_docs['clean_text'].apply(lambda x: [word for word in x if word not in stop_words])\n",
    "print(text_docs)\n"
   ]
  },
  {
   "cell_type": "markdown",
   "metadata": {},
   "source": [
    "### Task 2 Generate Topics using LDA\n",
    "#### Creating a LDA (Latent Dirichlet Allocation) and displaying the top 5 words for each topic generated by the model"
   ]
  },
  {
   "cell_type": "code",
   "execution_count": null,
   "metadata": {},
   "outputs": [
    {
     "name": "stdout",
     "output_type": "stream",
     "text": [
      "Topic 0: 0.031*\"influencing\" + 0.031*\"media\" + 0.031*\"world\" + 0.031*\"investing\" + 0.031*\"people\"\n",
      "Topic 1: 0.059*\"digital\" + 0.059*\"cybersecurity\" + 0.059*\"platforms\" + 0.059*\"concern\" + 0.059*\"ongoing\"\n",
      "Topic 2: 0.059*\"shaping\" + 0.059*\"future\" + 0.059*\"rise\" + 0.059*\"automobile\" + 0.059*\"vehicles\"\n",
      "Topic 3: 0.043*\"climate\" + 0.043*\"immediate\" + 0.043*\"critical\" + 0.043*\"global\" + 0.043*\"issue\"\n",
      "Topic 4: 0.046*\"towards\" + 0.046*\"streaming\" + 0.046*\"shifting\" + 0.046*\"evolving\" + 0.046*\"industry\"\n"
     ]
    }
   ],
   "source": [
    "dictionary = corpora.Dictionary(text_docs['clean_text'])\n",
    "corpus = [dictionary.doc2bow(doc) for doc in text_docs['clean_text']]\n",
    "lda_model = LdaModel(corpus=corpus, id2word=dictionary, num_topics=5, passes=10)\n",
    "for idx, topic in lda_model.print_topics(num_words=5):\n",
    "    print(f\"Topic {idx}: {topic}\")"
   ]
  },
  {
   "cell_type": "markdown",
   "metadata": {},
   "source": [
    "### Evaluation of the reults\n",
    "- Topic 0:\n",
    "    - Possible Theme: Social interactions, media influence, and communication dynamics.\n",
    "- Topic 1:\n",
    "    - Possible Theme: Financial instability, economic trends, and market uncertainties.\n",
    "- Topic 2:\n",
    "    - Possible Theme: Global challenges, environmental issues, or humanitarian concerns.\n",
    "- Topic 3:\n",
    "    - Possible Theme: Technology-related issues, digital safety, and cybersecurity concerns.\n",
    "Topic 4:\n",
    "    - Possible Theme: Global energy policies, media streaming platforms, or international affairs.\n"
   ]
  }
 ],
 "metadata": {
  "kernelspec": {
   "display_name": "base",
   "language": "python",
   "name": "python3"
  },
  "language_info": {
   "codemirror_mode": {
    "name": "ipython",
    "version": 3
   },
   "file_extension": ".py",
   "mimetype": "text/x-python",
   "name": "python",
   "nbconvert_exporter": "python",
   "pygments_lexer": "ipython3",
   "version": "3.12.7"
  }
 },
 "nbformat": 4,
 "nbformat_minor": 2
}
