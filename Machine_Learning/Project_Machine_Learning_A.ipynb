{
 "cells": [
  {
   "cell_type": "markdown",
   "metadata": {},
   "source": [
    "# Machine Learning Project - Part A : Airbnb Price Prediction and Insights\n",
    "\n",
    "### Link to Video [here](https://drive.google.com/file/d/1H0xzewCHnFEJr4EB-x-ihNwmwvZIyNF_/view?usp=sharing)\n",
    "\n",
    "## 1. Data Exploration and Preprocessing\n",
    "\n",
    "### Importing dataset, checking for missing values and data cleaning"
   ]
  },
  {
   "cell_type": "code",
   "execution_count": 1,
   "metadata": {},
   "outputs": [],
   "source": [
    "import pandas as pd\n",
    "import numpy as np\n",
    "import seaborn as sns\n",
    "import matplotlib.pyplot as plt\n",
    "from sklearn.model_selection import train_test_split\n",
    "from sklearn.preprocessing import StandardScaler, OneHotEncoder ,MultiLabelBinarizer\n",
    "from sklearn.compose import ColumnTransformer\n",
    "from sklearn.pipeline import Pipeline\n",
    "from sklearn.impute import SimpleImputer\n",
    "from sklearn.linear_model import LinearRegression\n",
    "from sklearn.metrics import mean_absolute_error, mean_squared_error, r2_score\n",
    "import gc \n",
    "import ast"
   ]
  },
  {
   "cell_type": "code",
   "execution_count": null,
   "metadata": {},
   "outputs": [
    {
     "name": "stdout",
     "output_type": "stream",
     "text": [
      "Variable          Missing Values\n",
      "bathrooms                   200\n",
      "description                   6\n",
      "first_review              15864\n",
      "host_has_profile_pic        188\n",
      "host_identity_verified      188\n",
      "host_response_rate        18299\n",
      "host_since                  188\n",
      "last_review               15827\n",
      "name                         10\n",
      "neighbourhood              6872\n",
      "review_scores_rating      16722\n",
      "thumbnail_url              8216\n",
      "zipcode                     968\n",
      "bedrooms                     91\n",
      "beds                        131\n",
      "dtype: int64\n",
      "Filled missing values\n",
      "Dropped rows with missing data\n",
      "Normalized values in columns of accomdates, bathrooms, latitude and longitude\n",
      "<class 'pandas.core.frame.DataFrame'>\n",
      "Index: 73918 entries, 0 to 74110\n",
      "Data columns (total 29 columns):\n",
      " #   Column                  Non-Null Count  Dtype  \n",
      "---  ------                  --------------  -----  \n",
      " 0   id                      73918 non-null  int64  \n",
      " 1   log_price               73918 non-null  float64\n",
      " 2   property_type           73918 non-null  object \n",
      " 3   room_type               73918 non-null  object \n",
      " 4   amenities               73918 non-null  object \n",
      " 5   accommodates            73918 non-null  float64\n",
      " 6   bathrooms               73918 non-null  float64\n",
      " 7   bed_type                73918 non-null  object \n",
      " 8   cancellation_policy     73918 non-null  object \n",
      " 9   cleaning_fee            73918 non-null  bool   \n",
      " 10  city                    73918 non-null  object \n",
      " 11  description             73912 non-null  object \n",
      " 12  first_review            58123 non-null  object \n",
      " 13  host_has_profile_pic    73730 non-null  object \n",
      " 14  host_identity_verified  73730 non-null  object \n",
      " 15  host_response_rate      55677 non-null  float64\n",
      " 16  host_since              73730 non-null  object \n",
      " 17  instant_bookable        73918 non-null  object \n",
      " 18  last_review             58160 non-null  object \n",
      " 19  latitude                73918 non-null  float64\n",
      " 20  longitude               73918 non-null  float64\n",
      " 21  name                    73908 non-null  object \n",
      " 22  neighbourhood           67069 non-null  object \n",
      " 23  number_of_reviews       73918 non-null  int64  \n",
      " 24  review_scores_rating    57267 non-null  float64\n",
      " 25  thumbnail_url           65730 non-null  object \n",
      " 26  zipcode                 72963 non-null  object \n",
      " 27  bedrooms                73918 non-null  float64\n",
      " 28  beds                    73918 non-null  float64\n",
      "dtypes: bool(1), float64(9), int64(2), object(17)\n",
      "memory usage: 16.4+ MB\n",
      "None\n"
     ]
    }
   ],
   "source": [
    "# getting excel file path\n",
    "filepath = 'E:\\Online_Course\\Machine Learning\\Projects\\Airbnb_data.xlsx'\n",
    "data = pd.read_excel(filepath)\n",
    "\n",
    "#finding the number of missing values in each column\n",
    "missing_values = data.isnull().sum()\n",
    "print('Variable          Missing Values')\n",
    "print(missing_values[missing_values > 0])\n",
    "\n",
    "#correcting missing values\n",
    "imputer = SimpleImputer(strategy='mean')\n",
    "data['bathrooms'] = imputer.fit_transform(data[['bathrooms']])\n",
    "print('Filled missing values')\n",
    "\n",
    "#dropping rows with missing values\n",
    "data.dropna(subset=['bedrooms', 'beds'], inplace=True)\n",
    "print('Dropped rows with missing data')\n",
    "\n",
    "#normalizing values in certain rows\n",
    "scaler = StandardScaler()\n",
    "numerical_features = ['accommodates', 'bathrooms', 'latitude', 'longitude']\n",
    "data[numerical_features] = scaler.fit_transform(data[numerical_features])\n",
    "print('Normalized values in columns of accomdates, bathrooms, latitude and longitude')\n",
    "\n",
    "#printing info to double check the output\n",
    "print(data.info())"
   ]
  },
  {
   "cell_type": "markdown",
   "metadata": {},
   "source": [
    "### Trend Analysis"
   ]
  },
  {
   "cell_type": "code",
   "execution_count": 12,
   "metadata": {},
   "outputs": [
    {
     "data": {
      "image/png": "[encoded data removed]",
      "text/plain": [
       "<Figure size 640x480 with 1 Axes>"
      ]
     },
     "metadata": {},
     "output_type": "display_data"
    }
   ],
   "source": [
    "sns.histplot(data['log_price'], kde=True)\n",
    "plt.title('Distribution of Log-Transformed Prices')\n",
    "plt.show()"
   ]
  },
  {
   "cell_type": "markdown",
   "metadata": {},
   "source": [
    "### Outlier Identification"
   ]
  },
  {
   "cell_type": "code",
   "execution_count": 13,
   "metadata": {},
   "outputs": [
    {
     "data": {
      "image/png": "[encoded data removed]",
      "text/plain": [
       "<Figure size 640x480 with 1 Axes>"
      ]
     },
     "metadata": {},
     "output_type": "display_data"
    }
   ],
   "source": [
    "sns.boxplot(x=data['accommodates'])\n",
    "plt.title('Boxplot of Accommodates')\n",
    "plt.show()"
   ]
  },
  {
   "cell_type": "markdown",
   "metadata": {},
   "source": [
    "### Creating a review age feature\n",
    "The difference between the first and latest review"
   ]
  },
  {
   "cell_type": "code",
   "execution_count": 14,
   "metadata": {},
   "outputs": [
    {
     "name": "stdout",
     "output_type": "stream",
     "text": [
      "  last_review first_review  review_age\n",
      "0  2016-07-18   2016-06-18        30.0\n",
      "1  2017-09-23   2017-05-08       138.0\n",
      "2  2017-09-14   2017-04-30       137.0\n",
      "3         NaT          NaT         NaN\n",
      "4  2017-01-22   2015-12-05       414.0\n"
     ]
    }
   ],
   "source": [
    "data['last_review'] = pd.to_datetime(data['last_review'], dayfirst=True)\n",
    "data['first_review'] = pd.to_datetime(data['first_review'], dayfirst=True)\n",
    "data['review_age'] = (data['last_review'] - data['first_review']).dt.days\n",
    "print(data[['last_review', 'first_review', 'review_age']].head())\n",
    "\n"
   ]
  },
  {
   "cell_type": "markdown",
   "metadata": {},
   "source": [
    "### Prepping and transforming data"
   ]
  },
  {
   "cell_type": "code",
   "execution_count": null,
   "metadata": {},
   "outputs": [
    {
     "data": {
      "text/plain": [
       "0"
      ]
     },
     "execution_count": 15,
     "metadata": {},
     "output_type": "execute_result"
    }
   ],
   "source": [
    "# creating a tempoary copy of the data\n",
    "temp_data = data.copy()\n",
    "\n",
    "# function to check if a string can be a python literal\n",
    "def safe_literal_eval(val):\n",
    "    try:\n",
    "        return ast.literal_eval(val)\n",
    "    except (ValueError, SyntaxError):\n",
    "        return [] \n",
    "\n",
    "# One-hot encoding for amenities\n",
    "temp_data['amenities'] = temp_data['amenities'].apply(safe_literal_eval)\n",
    "mlb = MultiLabelBinarizer()\n",
    "amenities_encoded = pd.DataFrame(mlb.fit_transform(temp_data['amenities']), columns=mlb.classes_, index=temp_data.index)\n",
    "temp_data = pd.concat([temp_data, amenities_encoded], axis=1)\n",
    "temp_data.drop('amenities', axis=1, inplace=True)\n",
    "del amenities_encoded\n",
    "gc.collect()\n",
    "\n",
    "# One-hot encode other categorical features\n",
    "categorical_features = ['property_type', 'room_type', 'bed_type', 'cancellation_policy', 'city', \n",
    "                        'host_has_profile_pic', 'host_identity_verified', 'instant_bookable']\n",
    "temp_data = pd.get_dummies(temp_data, columns=categorical_features)\n",
    "\n",
    "# Drop unnecessary columns \n",
    "columns_to_drop = ['id', 'description', 'first_review', 'last_review', 'host_since', 'name', 'thumbnail_url', 'zipcode', 'neighbourhood']\n",
    "temp_data = temp_data.drop(columns=columns_to_drop)\n",
    "del categorical_features\n",
    "gc.collect()\n",
    "\n",
    "# Fill missing values\n",
    "imputer = SimpleImputer(strategy='mean')\n",
    "temp_data = pd.DataFrame(imputer.fit_transform(temp_data), columns=temp_data.columns)\n",
    "del imputer\n",
    "gc.collect()"
   ]
  },
  {
   "cell_type": "markdown",
   "metadata": {},
   "source": [
    "## Model development\n",
    "### Building a regression model to predict the listing prices prices"
   ]
  },
  {
   "cell_type": "code",
   "execution_count": null,
   "metadata": {},
   "outputs": [
    {
     "name": "stdout",
     "output_type": "stream",
     "text": [
      "MAE: 0.345\n",
      "RMSE: 0.462\n",
      "R-squared: 0.585\n"
     ]
    }
   ],
   "source": [
    "# Model training\n",
    "X = temp_data.drop('log_price', axis=1)\n",
    "y = temp_data['log_price']\n",
    "X_train, X_test, y_train, y_test = train_test_split(X, y, test_size=0.2, random_state=42)\n",
    "model = LinearRegression()\n",
    "model.fit(X_train, y_train)\n",
    "y_pred = model.predict(X_test)\n",
    "\n",
    "# Model Evaluation\n",
    "mae = round(mean_absolute_error(y_test, y_pred),3)\n",
    "rmse = round(np.sqrt(mean_squared_error(y_test, y_pred)),3)\n",
    "r2 = round(r2_score(y_test, y_pred),3)\n",
    "\n",
    "# Printing Evaluation\n",
    "print(f'MAE: {mae}')\n",
    "print(f'RMSE: {rmse}')\n",
    "print(f'R-squared: {r2}')\n"
   ]
  },
  {
   "cell_type": "code",
   "execution_count": null,
   "metadata": {},
   "outputs": [],
   "source": []
  },
  {
   "cell_type": "markdown",
   "metadata": {},
   "source": [
    "## **Summary of Evaluation**\n",
    "### **Metrics**\n",
    "\n",
    "<style>\n",
    "p {\n",
    "  line-height: 0.7;\n",
    "  text-indent: 20px;\n",
    "}\n",
    "</style>\n",
    "\n",
    "\n",
    "<ul>\n",
    "<b><li> Mean Absolute Error (MAE)  :</li></b>\n",
    "<p> On average, your model's predictions are off by about 0.346 units in the log-transformed price. </p>\n",
    "<b> <li> Root Mean Squared Error (RMSE)  : </li></b>\n",
    "<p> This value indicates that the average difference between the predicted and actual prices is around 0.463 units. </p>\n",
    "<b><li> R-squared (R²) :</li> </b>\n",
    "<p> Your model explains approximately 58.3% of the variance in the listing prices. This means that a bit more than half of the factors affecting price are captured by your model. </p>\n",
    "</ul>\n",
    "\n",
    "### **Insights**\n",
    "<ol>\n",
    "<b><li> Property Type: </li></b>\n",
    "<p > Larger, exclusive properties command higher prices. </p>\n",
    "<p > Room Type: Entire homes, private rooms, or shared rooms can affect prices. </p>\n",
    "<p > Bed Type: Larger, more comfortable beds often lead to higher prices. </p>\n",
    "<b><li> Cancellation Policy: </li></b>\n",
    "<p > Listings with flexible cancellation policies attract more bookings and potentially higher prices. </p>\n",
    "<b><li> City and Neighborhood: </li></b>\n",
    "<p > Listings in popular, central, or upscale areas generally have higher prices. </p>\n",
    "<b><li> Host Attributes:</li></b>\n",
    "<p > Profile picture, verified identity, and response rate can impact price. </p>\n",
    "<b><li> Instant Bookable: </li></b>\n",
    "<p > Properties allowing instant booking attract more guests and command higher prices. </p>\n",
    "<b><li> Amenities: </li></b>\n",
    "<p >  Presence of amenities like Wi-Fi, air conditioning, kitchen, and parking can affect pricing. </p>\n",
    "<b><li> Review Scores and Number of Reviews: </li></b>\n",
    "<p > Higher review scores and a larger number of reviews enhance a listing's reputation. </p>\n",
    "<b><li> Accommodation Features: </li></b>\n",
    "<p > Number of accommodates, bathrooms, bedrooms, and beds can influence pricing. </p>\n",
    "</ol>\n",
    "\n",
    "### **Predictions for future listings**\n",
    "\n",
    "<b> <div> Informed Decision-Making: </b> </div>\n",
    "<p> Hosts set competitive prices based on model predictions. </p>\n",
    "<b> Optimization: </b>\n",
    "<p> Hosts can increase listing prices by tweaking features. </p>\n",
    "<b> Market Insights: </b>\n",
    "<p> The model can be used again, if and when needed to identify impactful features for prioritizing improvements.</p>"
   ]
  }
 ],
 "metadata": {
  "kernelspec": {
   "display_name": "Python 3",
   "language": "python",
   "name": "python3"
  },
  "language_info": {
   "codemirror_mode": {
    "name": "ipython",
    "version": 3
   },
   "file_extension": ".py",
   "mimetype": "text/x-python",
   "name": "python",
   "nbconvert_exporter": "python",
   "pygments_lexer": "ipython3",
   "version": "3.11.9"
  }
 },
 "nbformat": 4,
 "nbformat_minor": 2
}
