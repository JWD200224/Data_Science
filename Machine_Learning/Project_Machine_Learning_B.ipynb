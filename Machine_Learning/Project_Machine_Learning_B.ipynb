{
 "cells": [
  {
   "cell_type": "markdown",
   "metadata": {},
   "source": [
    "# Machine Learning Project - Part B : Customer Churn Prediction\n",
    "\n",
    "### Link to Video [here](https://drive.google.com/file/d/1YrPaRClBtd2r3bmRgDYs6BT_AIz0i-_B/view?usp=sharing)\n",
    "\n",
    "## Data Exploration and Preprocessing\n"
   ]
  },
  {
   "cell_type": "code",
   "execution_count": 10,
   "metadata": {},
   "outputs": [],
   "source": [
    "import pandas as pd\n",
    "import numpy as np\n",
    "import matplotlib.pyplot as plt\n",
    "import seaborn as sns\n",
    "from sklearn.model_selection import train_test_split\n",
    "from sklearn.preprocessing import StandardScaler\n",
    "from sklearn.ensemble import RandomForestClassifier\n",
    "from sklearn.metrics import accuracy_score, confusion_matrix, classification_report"
   ]
  },
  {
   "cell_type": "code",
   "execution_count": null,
   "metadata": {},
   "outputs": [
    {
     "name": "stdout",
     "output_type": "stream",
     "text": [
      "Variable          Missing Values\n",
      "TotalCharges    11\n",
      "dtype: int64\n"
     ]
    },
    {
     "name": "stderr",
     "output_type": "stream",
     "text": [
      "C:\\Users\\admin\\AppData\\Local\\Temp\\ipykernel_20204\\3080683559.py:12: FutureWarning: A value is trying to be set on a copy of a DataFrame or Series through chained assignment using an inplace method.\n",
      "The behavior will change in pandas 3.0. This inplace method will never work because the intermediate object on which we are setting values always behaves as a copy.\n",
      "\n",
      "For example, when doing 'df[col].method(value, inplace=True)', try using 'df.method({col: value}, inplace=True)' or df[col] = df[col].method(value) instead, to perform the operation inplace on the original object.\n",
      "\n",
      "\n",
      "  data['TotalCharges'].fillna(data['TotalCharges'].median(), inplace=True)\n"
     ]
    }
   ],
   "source": [
    "\n",
    "#importing excel file\n",
    "filepath = 'E:\\Online_Course\\Machine Learning\\Projects\\Customer_data.xlsx'\n",
    "data = pd.read_excel(filepath)\n",
    "\n",
    "#checking and correcting missing values\n",
    "missing_values = data.isnull().sum()\n",
    "print('Variable          Missing Values')\n",
    "print(missing_values[missing_values > 0])\n",
    "data['TotalCharges'] = pd.to_numeric(data['TotalCharges'], errors='coerce')\n",
    "data['TotalCharges'].fillna(data['TotalCharges'].median(), inplace=True)\n",
    "\n",
    "# Convert categorical 'Yes/No' columns to binary values\n",
    "data['Partner'] = data['Partner'].map({'Yes': 1, 'No': 0})\n",
    "data['Dependents'] = data['Dependents'].map({'Yes': 1, 'No': 0})\n",
    "data['PhoneService'] = data['PhoneService'].map({'Yes': 1, 'No': 0})\n",
    "data['MultipleLines'] = data['MultipleLines'].map({'Yes': 1, 'No': 0})\n",
    "data['OnlineSecurity'] = data['OnlineSecurity'].map({'Yes': 1, 'No': 0})\n",
    "data['OnlineBackup'] = data['OnlineBackup'].map({'Yes': 1, 'No': 0})\n",
    "data['DeviceProtection'] = data['DeviceProtection'].map({'Yes': 1, 'No': 0})\n",
    "data['TechSupport'] = data['TechSupport'].map({'Yes': 1, 'No': 0})\n",
    "data['StreamingTV'] = data['StreamingTV'].map({'Yes': 1, 'No': 0})\n",
    "data['StreamingMovies'] = data['StreamingMovies'].map({'Yes': 1, 'No': 0})\n",
    "data['PaperlessBilling'] = data['PaperlessBilling'].map({'Yes': 1, 'No': 0})\n",
    "data['Churn'] = data['Churn'].map({'Yes': 1, 'No': 0})\n",
    "\n",
    "# Perform one-hot encoding on categorical columns\n",
    "data = pd.get_dummies(data, columns=['gender', 'InternetService', 'Contract', 'PaymentMethod'])\n",
    "\n",
    "# adding a new column by converting tenure from months to years\n",
    "data['Tenure_Years'] = data['tenure'] // 12 \n",
    "\n",
    "#dropping the customer ID column\n",
    "data.drop(columns=['customerID'], inplace=True)\n"
   ]
  },
  {
   "cell_type": "code",
   "execution_count": null,
   "metadata": {},
   "outputs": [
    {
     "name": "stdout",
     "output_type": "stream",
     "text": [
      "Accuracy: 78.85%\n",
      "Confusion Matrix:\n",
      "[[936 100]\n",
      " [198 175]]\n",
      "Classification Report:\n",
      "              precision    recall  f1-score   support\n",
      "\n",
      "           0       0.83      0.90      0.86      1036\n",
      "           1       0.64      0.47      0.54       373\n",
      "\n",
      "    accuracy                           0.79      1409\n",
      "   macro avg       0.73      0.69      0.70      1409\n",
      "weighted avg       0.78      0.79      0.78      1409\n",
      "\n"
     ]
    }
   ],
   "source": [
    "#Splitting and Building\n",
    "X = data.drop('Churn', axis=1)\n",
    "y = data['Churn']\n",
    "X_train, X_test, y_train, y_test = train_test_split(X, y, test_size=0.2, random_state=42)\n",
    "\n",
    "# Predictions\n",
    "model = RandomForestClassifier(n_estimators=100, random_state=42)\n",
    "model.fit(X_train, y_train)\n",
    "y_pred = model.predict(X_test)\n",
    "\n",
    "#Evaluations\n",
    "accuracy = accuracy_score(y_test, y_pred)\n",
    "print(f'Accuracy: {accuracy * 100:.2f}%')\n",
    "conf_matrix = confusion_matrix(y_test, y_pred)\n",
    "print('Confusion Matrix:')\n",
    "print(conf_matrix)\n",
    "class_report = classification_report(y_test, y_pred)\n",
    "print('Classification Report:')\n",
    "print(class_report)"
   ]
  },
  {
   "cell_type": "markdown",
   "metadata": {},
   "source": [
    "## **Sumary of Model Evaluation**\n",
    "### **Metrics**\n",
    "\n",
    "<style>\n",
    "p {\n",
    "  line-height: 0.7;\n",
    "  text-indent: 20px;\n",
    "}\n",
    "</style>\n",
    "\n",
    "<ol>\n",
    "<b><li> Accuracy: </li></b>\n",
    "<p> Model predicts churn status for 78.85% of instances in the test set. </p>\n",
    "<b><li> Confusion Matrix: </li></b>\n",
    "<p> True Negatives (TN): 936, False Positives (FP): 100, False Negatives (FN): 198, True Positives (TP): 175 </p>\n",
    "<b><li> Classification Report </li></b>\n",
    "<p> Details for Class 0 (No Churn) and Class 1 (Churn): </p>\n",
    "<p> Class 0: Precision: 0.83 - 83%, Recall: 0.90 - 90%, F1-score: 0.86</p>\n",
    "<p> Class 1: Precision: 0.64 - 64%, Recall: 0.47 - 47%, F1-score: 0.54 </p>\n",
    "</ol>\n",
    "\n",
    "### **Actionable Insights for Customer Retention:**\n",
    "\n",
    "\n",
    "<p>Identify High-Risk Customers: Prioritize customers with high churn probability</p>\n",
    "<p>Retention Strategies: Provide personalized offers, enhanced customer support, and loyalty programs</p>\n",
    "<p>Feature Importance Analysis: Identify influential factors predicting churn and improve customer experience in areas correlated with churn</p>\n",
    "<p>Customer Feedback: Gather feedback from high-risk customers and use surveys to address concerns and improve satisfaction</p>"
   ]
  }
 ],
 "metadata": {
  "kernelspec": {
   "display_name": "Python 3",
   "language": "python",
   "name": "python3"
  },
  "language_info": {
   "codemirror_mode": {
    "name": "ipython",
    "version": 3
   },
   "file_extension": ".py",
   "mimetype": "text/x-python",
   "name": "python",
   "nbconvert_exporter": "python",
   "pygments_lexer": "ipython3",
   "version": "3.11.9"
  }
 },
 "nbformat": 4,
 "nbformat_minor": 2
}
